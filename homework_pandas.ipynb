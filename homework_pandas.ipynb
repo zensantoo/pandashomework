{
 "cells": [
  {
   "cell_type": "code",
   "execution_count": 135,
   "metadata": {},
   "outputs": [],
   "source": [
    "# Dependencies and Setup\n",
    "import pandas as pd"
   ]
  },
  {
   "cell_type": "code",
   "execution_count": 136,
   "metadata": {},
   "outputs": [],
   "source": [
    "# File to Load (Remember to Change These)\n",
    "file_to_load = \"Resources/purchase_data.csv\""
   ]
  },
  {
   "cell_type": "code",
   "execution_count": 137,
   "metadata": {},
   "outputs": [],
   "source": [
    "# Read Purchasing File and store into Pandas data frame\n",
    "purchase_data = pd.read_csv(file_to_load)\n",
    "df = purchase_data"
   ]
  },
  {
   "cell_type": "code",
   "execution_count": 138,
   "metadata": {},
   "outputs": [
    {
     "data": {
      "text/html": [
       "<div>\n",
       "<style scoped>\n",
       "    .dataframe tbody tr th:only-of-type {\n",
       "        vertical-align: middle;\n",
       "    }\n",
       "\n",
       "    .dataframe tbody tr th {\n",
       "        vertical-align: top;\n",
       "    }\n",
       "\n",
       "    .dataframe thead th {\n",
       "        text-align: right;\n",
       "    }\n",
       "</style>\n",
       "<table border=\"1\" class=\"dataframe\">\n",
       "  <thead>\n",
       "    <tr style=\"text-align: right;\">\n",
       "      <th></th>\n",
       "      <th>Purchase ID</th>\n",
       "      <th>SN</th>\n",
       "      <th>Age</th>\n",
       "      <th>Gender</th>\n",
       "      <th>Item ID</th>\n",
       "      <th>Item Name</th>\n",
       "      <th>Price</th>\n",
       "    </tr>\n",
       "  </thead>\n",
       "  <tbody>\n",
       "    <tr>\n",
       "      <td>0</td>\n",
       "      <td>0</td>\n",
       "      <td>Lisim78</td>\n",
       "      <td>20</td>\n",
       "      <td>Male</td>\n",
       "      <td>108</td>\n",
       "      <td>Extraction, Quickblade Of Trembling Hands</td>\n",
       "      <td>3.53</td>\n",
       "    </tr>\n",
       "    <tr>\n",
       "      <td>1</td>\n",
       "      <td>1</td>\n",
       "      <td>Lisovynya38</td>\n",
       "      <td>40</td>\n",
       "      <td>Male</td>\n",
       "      <td>143</td>\n",
       "      <td>Frenzied Scimitar</td>\n",
       "      <td>1.56</td>\n",
       "    </tr>\n",
       "    <tr>\n",
       "      <td>2</td>\n",
       "      <td>2</td>\n",
       "      <td>Ithergue48</td>\n",
       "      <td>24</td>\n",
       "      <td>Male</td>\n",
       "      <td>92</td>\n",
       "      <td>Final Critic</td>\n",
       "      <td>4.88</td>\n",
       "    </tr>\n",
       "    <tr>\n",
       "      <td>3</td>\n",
       "      <td>3</td>\n",
       "      <td>Chamassasya86</td>\n",
       "      <td>24</td>\n",
       "      <td>Male</td>\n",
       "      <td>100</td>\n",
       "      <td>Blindscythe</td>\n",
       "      <td>3.27</td>\n",
       "    </tr>\n",
       "    <tr>\n",
       "      <td>4</td>\n",
       "      <td>4</td>\n",
       "      <td>Iskosia90</td>\n",
       "      <td>23</td>\n",
       "      <td>Male</td>\n",
       "      <td>131</td>\n",
       "      <td>Fury</td>\n",
       "      <td>1.44</td>\n",
       "    </tr>\n",
       "  </tbody>\n",
       "</table>\n",
       "</div>"
      ],
      "text/plain": [
       "   Purchase ID             SN  Age Gender  Item ID  \\\n",
       "0            0        Lisim78   20   Male      108   \n",
       "1            1    Lisovynya38   40   Male      143   \n",
       "2            2     Ithergue48   24   Male       92   \n",
       "3            3  Chamassasya86   24   Male      100   \n",
       "4            4      Iskosia90   23   Male      131   \n",
       "\n",
       "                                   Item Name  Price  \n",
       "0  Extraction, Quickblade Of Trembling Hands   3.53  \n",
       "1                          Frenzied Scimitar   1.56  \n",
       "2                               Final Critic   4.88  \n",
       "3                                Blindscythe   3.27  \n",
       "4                                       Fury   1.44  "
      ]
     },
     "execution_count": 138,
     "metadata": {},
     "output_type": "execute_result"
    }
   ],
   "source": [
    "df.head()"
   ]
  },
  {
   "cell_type": "code",
   "execution_count": 139,
   "metadata": {},
   "outputs": [
    {
     "data": {
      "text/html": [
       "<div>\n",
       "<style scoped>\n",
       "    .dataframe tbody tr th:only-of-type {\n",
       "        vertical-align: middle;\n",
       "    }\n",
       "\n",
       "    .dataframe tbody tr th {\n",
       "        vertical-align: top;\n",
       "    }\n",
       "\n",
       "    .dataframe thead th {\n",
       "        text-align: right;\n",
       "    }\n",
       "</style>\n",
       "<table border=\"1\" class=\"dataframe\">\n",
       "  <thead>\n",
       "    <tr style=\"text-align: right;\">\n",
       "      <th></th>\n",
       "      <th>Total Players</th>\n",
       "    </tr>\n",
       "  </thead>\n",
       "  <tbody>\n",
       "    <tr>\n",
       "      <td>0</td>\n",
       "      <td>576</td>\n",
       "    </tr>\n",
       "  </tbody>\n",
       "</table>\n",
       "</div>"
      ],
      "text/plain": [
       "   Total Players\n",
       "0            576"
      ]
     },
     "execution_count": 139,
     "metadata": {},
     "output_type": "execute_result"
    }
   ],
   "source": [
    "# unique count\n",
    "total_players = df['SN'].nunique()\n",
    "\n",
    "# adding data frame\n",
    "total_players = pd.DataFrame({\"Total Players\":[total_players]})\n",
    "total_players"
   ]
  },
  {
   "cell_type": "code",
   "execution_count": 140,
   "metadata": {},
   "outputs": [
    {
     "data": {
      "text/html": [
       "<style  type=\"text/css\" >\n",
       "</style><table id=\"T_e36441a4_1ef6_11ea_abb6_34e12def8872\" ><thead>    <tr>        <th class=\"blank level0\" ></th>        <th class=\"col_heading level0 col0\" >Number of Unique Items</th>        <th class=\"col_heading level0 col1\" >Average Price</th>        <th class=\"col_heading level0 col2\" >Number of Purchases</th>        <th class=\"col_heading level0 col3\" >Total Revenue</th>    </tr></thead><tbody>\n",
       "                <tr>\n",
       "                        <th id=\"T_e36441a4_1ef6_11ea_abb6_34e12def8872level0_row0\" class=\"row_heading level0 row0\" >0</th>\n",
       "                        <td id=\"T_e36441a4_1ef6_11ea_abb6_34e12def8872row0_col0\" class=\"data row0 col0\" >183</td>\n",
       "                        <td id=\"T_e36441a4_1ef6_11ea_abb6_34e12def8872row0_col1\" class=\"data row0 col1\" >$3.05</td>\n",
       "                        <td id=\"T_e36441a4_1ef6_11ea_abb6_34e12def8872row0_col2\" class=\"data row0 col2\" >780</td>\n",
       "                        <td id=\"T_e36441a4_1ef6_11ea_abb6_34e12def8872row0_col3\" class=\"data row0 col3\" >$2,379.77</td>\n",
       "            </tr>\n",
       "    </tbody></table>"
      ],
      "text/plain": [
       "<pandas.io.formats.style.Styler at 0x1c009a0d9c8>"
      ]
     },
     "execution_count": 140,
     "metadata": {},
     "output_type": "execute_result"
    }
   ],
   "source": [
    "# adding variables\n",
    "unique_items = df['Item ID'].nunique()\n",
    "avg_price = df['Price'].mean()\n",
    "no_of_purchases = df['Purchase ID'].count()\n",
    "total_revenue = df['Price'].sum()\n",
    "\n",
    "# adding dataframe\n",
    "purchase_analysis = pd.DataFrame({\"Number of Unique Items\":[unique_items],\n",
    "                                  \"Average Price\":[avg_price], \n",
    "                                  \"Number of Purchases\": [no_of_purchases], \n",
    "                                  \"Total Revenue\": [total_revenue]})\n",
    "# styling decimals\n",
    "purchase_analysis.style.format({'Average Price':\"${:,.2f}\",\n",
    "                                'Total Revenue': '${:,.2f}'})\n",
    "\n"
   ]
  },
  {
   "cell_type": "code",
   "execution_count": 141,
   "metadata": {},
   "outputs": [
    {
     "data": {
      "text/html": [
       "<style  type=\"text/css\" >\n",
       "</style><table id=\"T_e3ab4f42_1ef6_11ea_865b_34e12def8872\" ><thead>    <tr>        <th class=\"blank level0\" ></th>        <th class=\"col_heading level0 col0\" >Total Count</th>        <th class=\"col_heading level0 col1\" >Percentage of Players</th>    </tr>    <tr>        <th class=\"index_name level0\" >Gender</th>        <th class=\"blank\" ></th>        <th class=\"blank\" ></th>    </tr></thead><tbody>\n",
       "                <tr>\n",
       "                        <th id=\"T_e3ab4f42_1ef6_11ea_865b_34e12def8872level0_row0\" class=\"row_heading level0 row0\" >Male</th>\n",
       "                        <td id=\"T_e3ab4f42_1ef6_11ea_865b_34e12def8872row0_col0\" class=\"data row0 col0\" >484</td>\n",
       "                        <td id=\"T_e3ab4f42_1ef6_11ea_865b_34e12def8872row0_col1\" class=\"data row0 col1\" >84.03%</td>\n",
       "            </tr>\n",
       "            <tr>\n",
       "                        <th id=\"T_e3ab4f42_1ef6_11ea_865b_34e12def8872level0_row1\" class=\"row_heading level0 row1\" >Female</th>\n",
       "                        <td id=\"T_e3ab4f42_1ef6_11ea_865b_34e12def8872row1_col0\" class=\"data row1 col0\" >81</td>\n",
       "                        <td id=\"T_e3ab4f42_1ef6_11ea_865b_34e12def8872row1_col1\" class=\"data row1 col1\" >14.06%</td>\n",
       "            </tr>\n",
       "            <tr>\n",
       "                        <th id=\"T_e3ab4f42_1ef6_11ea_865b_34e12def8872level0_row2\" class=\"row_heading level0 row2\" >Other / Non-Disclosed</th>\n",
       "                        <td id=\"T_e3ab4f42_1ef6_11ea_865b_34e12def8872row2_col0\" class=\"data row2 col0\" >11</td>\n",
       "                        <td id=\"T_e3ab4f42_1ef6_11ea_865b_34e12def8872row2_col1\" class=\"data row2 col1\" >1.91%</td>\n",
       "            </tr>\n",
       "    </tbody></table>"
      ],
      "text/plain": [
       "<pandas.io.formats.style.Styler at 0x1c009a11b08>"
      ]
     },
     "execution_count": 141,
     "metadata": {},
     "output_type": "execute_result"
    }
   ],
   "source": [
    "#grouping gender\n",
    "gender = df.groupby('Gender')\n",
    "\n",
    "#finding count of gender\n",
    "gender_count = gender.nunique()['SN']\n",
    "\n",
    "#finding percent of gender\n",
    "percent_players = (gender_count/df['SN'].nunique())*100\n",
    "\n",
    "#publishing dataframe\n",
    "gender_demographics = pd.DataFrame({\"Total Count\": gender_count,\n",
    "                                    \"Percentage of Players\": percent_players})\n",
    "\n",
    "#style format\n",
    "gender_demographics.sort_values([\"Total Count\"], ascending = False).style.format({\"Percentage of Players\":\"{:.2f}\" + \"%\"})"
   ]
  },
  {
   "cell_type": "code",
   "execution_count": 142,
   "metadata": {},
   "outputs": [
    {
     "data": {
      "text/html": [
       "<style  type=\"text/css\" >\n",
       "</style><table id=\"T_e3f58e28_1ef6_11ea_8592_34e12def8872\" ><thead>    <tr>        <th class=\"blank level0\" ></th>        <th class=\"col_heading level0 col0\" >Purchase Count</th>        <th class=\"col_heading level0 col1\" >Average Purchase Price</th>        <th class=\"col_heading level0 col2\" >Total Purchase Value</th>        <th class=\"col_heading level0 col3\" >Avg Purchase Total per Person</th>    </tr>    <tr>        <th class=\"index_name level0\" >Gender</th>        <th class=\"blank\" ></th>        <th class=\"blank\" ></th>        <th class=\"blank\" ></th>        <th class=\"blank\" ></th>    </tr></thead><tbody>\n",
       "                <tr>\n",
       "                        <th id=\"T_e3f58e28_1ef6_11ea_8592_34e12def8872level0_row0\" class=\"row_heading level0 row0\" >Female</th>\n",
       "                        <td id=\"T_e3f58e28_1ef6_11ea_8592_34e12def8872row0_col0\" class=\"data row0 col0\" >113</td>\n",
       "                        <td id=\"T_e3f58e28_1ef6_11ea_8592_34e12def8872row0_col1\" class=\"data row0 col1\" >$3.20</td>\n",
       "                        <td id=\"T_e3f58e28_1ef6_11ea_8592_34e12def8872row0_col2\" class=\"data row0 col2\" >$361.94</td>\n",
       "                        <td id=\"T_e3f58e28_1ef6_11ea_8592_34e12def8872row0_col3\" class=\"data row0 col3\" >$4.47</td>\n",
       "            </tr>\n",
       "            <tr>\n",
       "                        <th id=\"T_e3f58e28_1ef6_11ea_8592_34e12def8872level0_row1\" class=\"row_heading level0 row1\" >Male</th>\n",
       "                        <td id=\"T_e3f58e28_1ef6_11ea_8592_34e12def8872row1_col0\" class=\"data row1 col0\" >652</td>\n",
       "                        <td id=\"T_e3f58e28_1ef6_11ea_8592_34e12def8872row1_col1\" class=\"data row1 col1\" >$3.02</td>\n",
       "                        <td id=\"T_e3f58e28_1ef6_11ea_8592_34e12def8872row1_col2\" class=\"data row1 col2\" >$1,967.64</td>\n",
       "                        <td id=\"T_e3f58e28_1ef6_11ea_8592_34e12def8872row1_col3\" class=\"data row1 col3\" >$4.07</td>\n",
       "            </tr>\n",
       "            <tr>\n",
       "                        <th id=\"T_e3f58e28_1ef6_11ea_8592_34e12def8872level0_row2\" class=\"row_heading level0 row2\" >Other / Non-Disclosed</th>\n",
       "                        <td id=\"T_e3f58e28_1ef6_11ea_8592_34e12def8872row2_col0\" class=\"data row2 col0\" >15</td>\n",
       "                        <td id=\"T_e3f58e28_1ef6_11ea_8592_34e12def8872row2_col1\" class=\"data row2 col1\" >$3.35</td>\n",
       "                        <td id=\"T_e3f58e28_1ef6_11ea_8592_34e12def8872row2_col2\" class=\"data row2 col2\" >$50.19</td>\n",
       "                        <td id=\"T_e3f58e28_1ef6_11ea_8592_34e12def8872row2_col3\" class=\"data row2 col3\" >$4.56</td>\n",
       "            </tr>\n",
       "    </tbody></table>"
      ],
      "text/plain": [
       "<pandas.io.formats.style.Styler at 0x1c00976c288>"
      ]
     },
     "execution_count": 142,
     "metadata": {},
     "output_type": "execute_result"
    }
   ],
   "source": [
    "#grouping gender\n",
    "gender = df.groupby('Gender')\n",
    "\n",
    "#count purchase\n",
    "count_purchase = gender.count()['Purchase ID']\n",
    "\n",
    "#avg. purchase price\n",
    "avg_purchase_price = gender.mean()['Price']\n",
    "\n",
    "#total purchase price\n",
    "total_purchase_price = gender.sum()['Price']\n",
    "\n",
    "#Average Purchase Total per Person by Gender\n",
    "avg_total_purchase_price = total_purchase_price / gender_count\n",
    "\n",
    "# data frame\n",
    "gender_demographics = pd.DataFrame({\"Purchase Count\": count_purchase, \n",
    "                                    \"Average Purchase Price\": avg_purchase_price,\n",
    "                                    \"Total Purchase Value\":total_purchase_price,\n",
    "                                    \"Avg Purchase Total per Person\": avg_total_purchase_price})\n",
    "\n",
    "# style format\n",
    "gender_demographics.style.format({\"Average Purchase Price\":\"${:,.2f}\",\n",
    "                                  \"Total Purchase Value\":\"${:,.2f}\",\n",
    "                                  \"Avg Purchase Total per Person\":\"${:,.2f}\"})"
   ]
  },
  {
   "cell_type": "code",
   "execution_count": 143,
   "metadata": {},
   "outputs": [
    {
     "data": {
      "text/html": [
       "<style  type=\"text/css\" >\n",
       "</style><table id=\"T_e438c00a_1ef6_11ea_a4c8_34e12def8872\" ><thead>    <tr>        <th class=\"blank level0\" ></th>        <th class=\"col_heading level0 col0\" >Total Count</th>        <th class=\"col_heading level0 col1\" >Percentage of Players</th>    </tr>    <tr>        <th class=\"index_name level0\" >Age Group</th>        <th class=\"blank\" ></th>        <th class=\"blank\" ></th>    </tr></thead><tbody>\n",
       "                <tr>\n",
       "                        <th id=\"T_e438c00a_1ef6_11ea_a4c8_34e12def8872level0_row0\" class=\"row_heading level0 row0\" ><10</th>\n",
       "                        <td id=\"T_e438c00a_1ef6_11ea_a4c8_34e12def8872row0_col0\" class=\"data row0 col0\" >17</td>\n",
       "                        <td id=\"T_e438c00a_1ef6_11ea_a4c8_34e12def8872row0_col1\" class=\"data row0 col1\" >2.95%</td>\n",
       "            </tr>\n",
       "            <tr>\n",
       "                        <th id=\"T_e438c00a_1ef6_11ea_a4c8_34e12def8872level0_row1\" class=\"row_heading level0 row1\" >10-14</th>\n",
       "                        <td id=\"T_e438c00a_1ef6_11ea_a4c8_34e12def8872row1_col0\" class=\"data row1 col0\" >22</td>\n",
       "                        <td id=\"T_e438c00a_1ef6_11ea_a4c8_34e12def8872row1_col1\" class=\"data row1 col1\" >3.82%</td>\n",
       "            </tr>\n",
       "            <tr>\n",
       "                        <th id=\"T_e438c00a_1ef6_11ea_a4c8_34e12def8872level0_row2\" class=\"row_heading level0 row2\" >15-19</th>\n",
       "                        <td id=\"T_e438c00a_1ef6_11ea_a4c8_34e12def8872row2_col0\" class=\"data row2 col0\" >107</td>\n",
       "                        <td id=\"T_e438c00a_1ef6_11ea_a4c8_34e12def8872row2_col1\" class=\"data row2 col1\" >18.58%</td>\n",
       "            </tr>\n",
       "            <tr>\n",
       "                        <th id=\"T_e438c00a_1ef6_11ea_a4c8_34e12def8872level0_row3\" class=\"row_heading level0 row3\" >20-24</th>\n",
       "                        <td id=\"T_e438c00a_1ef6_11ea_a4c8_34e12def8872row3_col0\" class=\"data row3 col0\" >258</td>\n",
       "                        <td id=\"T_e438c00a_1ef6_11ea_a4c8_34e12def8872row3_col1\" class=\"data row3 col1\" >44.79%</td>\n",
       "            </tr>\n",
       "            <tr>\n",
       "                        <th id=\"T_e438c00a_1ef6_11ea_a4c8_34e12def8872level0_row4\" class=\"row_heading level0 row4\" >25-29</th>\n",
       "                        <td id=\"T_e438c00a_1ef6_11ea_a4c8_34e12def8872row4_col0\" class=\"data row4 col0\" >77</td>\n",
       "                        <td id=\"T_e438c00a_1ef6_11ea_a4c8_34e12def8872row4_col1\" class=\"data row4 col1\" >13.37%</td>\n",
       "            </tr>\n",
       "            <tr>\n",
       "                        <th id=\"T_e438c00a_1ef6_11ea_a4c8_34e12def8872level0_row5\" class=\"row_heading level0 row5\" >30-34</th>\n",
       "                        <td id=\"T_e438c00a_1ef6_11ea_a4c8_34e12def8872row5_col0\" class=\"data row5 col0\" >52</td>\n",
       "                        <td id=\"T_e438c00a_1ef6_11ea_a4c8_34e12def8872row5_col1\" class=\"data row5 col1\" >9.03%</td>\n",
       "            </tr>\n",
       "            <tr>\n",
       "                        <th id=\"T_e438c00a_1ef6_11ea_a4c8_34e12def8872level0_row6\" class=\"row_heading level0 row6\" >35-39</th>\n",
       "                        <td id=\"T_e438c00a_1ef6_11ea_a4c8_34e12def8872row6_col0\" class=\"data row6 col0\" >31</td>\n",
       "                        <td id=\"T_e438c00a_1ef6_11ea_a4c8_34e12def8872row6_col1\" class=\"data row6 col1\" >5.38%</td>\n",
       "            </tr>\n",
       "            <tr>\n",
       "                        <th id=\"T_e438c00a_1ef6_11ea_a4c8_34e12def8872level0_row7\" class=\"row_heading level0 row7\" >40+</th>\n",
       "                        <td id=\"T_e438c00a_1ef6_11ea_a4c8_34e12def8872row7_col0\" class=\"data row7 col0\" >12</td>\n",
       "                        <td id=\"T_e438c00a_1ef6_11ea_a4c8_34e12def8872row7_col1\" class=\"data row7 col1\" >2.08%</td>\n",
       "            </tr>\n",
       "    </tbody></table>"
      ],
      "text/plain": [
       "<pandas.io.formats.style.Styler at 0x1c0099ce5c8>"
      ]
     },
     "execution_count": 143,
     "metadata": {},
     "output_type": "execute_result"
    }
   ],
   "source": [
    "# adding bin for ages\n",
    "bins = [0, 9.9, 14.9, 19.9, 24.9, 29.9, 34.9, 39.9, 150]\n",
    "\n",
    "#adding age range\n",
    "age_group = [\"<10\", \"10-14\", \"15-19\", \"20-24\", \"25-29\", \"30-34\", \"35-39\", \"40+\"]\n",
    "\n",
    "#cutting by bins\n",
    "df['Age Group'] = pd.cut(df['Age'], bins, labels=age_group)\n",
    "df\n",
    "\n",
    "# group by age group\n",
    "age_grouping = df.groupby(\"Age Group\")\n",
    "\n",
    "# Count of age group\n",
    "total_count_age = age_grouping[\"SN\"].nunique()\n",
    "\n",
    "# percent by age group \n",
    "percent_by_age = total_count_age / df['SN'].nunique() * 100\n",
    "\n",
    "# data frame\n",
    "age_demographics = pd.DataFrame({\"Total Count\": total_count_age,\n",
    "                                \"Percentage of Players\": percent_by_age})\n",
    "\n",
    "# style format\n",
    "age_demographics.style.format({\"Percentage of Players\":\"{:,.2f}\" + \"%\"})"
   ]
  },
  {
   "cell_type": "code",
   "execution_count": 144,
   "metadata": {},
   "outputs": [
    {
     "data": {
      "text/html": [
       "<style  type=\"text/css\" >\n",
       "</style><table id=\"T_e4846da2_1ef6_11ea_bb59_34e12def8872\" ><thead>    <tr>        <th class=\"blank level0\" ></th>        <th class=\"col_heading level0 col0\" >Purchase Count</th>        <th class=\"col_heading level0 col1\" >Average Purchase Price</th>        <th class=\"col_heading level0 col2\" >Total Purchase Value</th>        <th class=\"col_heading level0 col3\" >Average Purchase Total per Person</th>    </tr>    <tr>        <th class=\"index_name level0\" >Age Group</th>        <th class=\"blank\" ></th>        <th class=\"blank\" ></th>        <th class=\"blank\" ></th>        <th class=\"blank\" ></th>    </tr></thead><tbody>\n",
       "                <tr>\n",
       "                        <th id=\"T_e4846da2_1ef6_11ea_bb59_34e12def8872level0_row0\" class=\"row_heading level0 row0\" ><10</th>\n",
       "                        <td id=\"T_e4846da2_1ef6_11ea_bb59_34e12def8872row0_col0\" class=\"data row0 col0\" >23</td>\n",
       "                        <td id=\"T_e4846da2_1ef6_11ea_bb59_34e12def8872row0_col1\" class=\"data row0 col1\" >$3.35</td>\n",
       "                        <td id=\"T_e4846da2_1ef6_11ea_bb59_34e12def8872row0_col2\" class=\"data row0 col2\" >$77.13</td>\n",
       "                        <td id=\"T_e4846da2_1ef6_11ea_bb59_34e12def8872row0_col3\" class=\"data row0 col3\" >$4.54</td>\n",
       "            </tr>\n",
       "            <tr>\n",
       "                        <th id=\"T_e4846da2_1ef6_11ea_bb59_34e12def8872level0_row1\" class=\"row_heading level0 row1\" >10-14</th>\n",
       "                        <td id=\"T_e4846da2_1ef6_11ea_bb59_34e12def8872row1_col0\" class=\"data row1 col0\" >28</td>\n",
       "                        <td id=\"T_e4846da2_1ef6_11ea_bb59_34e12def8872row1_col1\" class=\"data row1 col1\" >$2.96</td>\n",
       "                        <td id=\"T_e4846da2_1ef6_11ea_bb59_34e12def8872row1_col2\" class=\"data row1 col2\" >$82.78</td>\n",
       "                        <td id=\"T_e4846da2_1ef6_11ea_bb59_34e12def8872row1_col3\" class=\"data row1 col3\" >$3.76</td>\n",
       "            </tr>\n",
       "            <tr>\n",
       "                        <th id=\"T_e4846da2_1ef6_11ea_bb59_34e12def8872level0_row2\" class=\"row_heading level0 row2\" >15-19</th>\n",
       "                        <td id=\"T_e4846da2_1ef6_11ea_bb59_34e12def8872row2_col0\" class=\"data row2 col0\" >136</td>\n",
       "                        <td id=\"T_e4846da2_1ef6_11ea_bb59_34e12def8872row2_col1\" class=\"data row2 col1\" >$3.04</td>\n",
       "                        <td id=\"T_e4846da2_1ef6_11ea_bb59_34e12def8872row2_col2\" class=\"data row2 col2\" >$412.89</td>\n",
       "                        <td id=\"T_e4846da2_1ef6_11ea_bb59_34e12def8872row2_col3\" class=\"data row2 col3\" >$3.86</td>\n",
       "            </tr>\n",
       "            <tr>\n",
       "                        <th id=\"T_e4846da2_1ef6_11ea_bb59_34e12def8872level0_row3\" class=\"row_heading level0 row3\" >20-24</th>\n",
       "                        <td id=\"T_e4846da2_1ef6_11ea_bb59_34e12def8872row3_col0\" class=\"data row3 col0\" >365</td>\n",
       "                        <td id=\"T_e4846da2_1ef6_11ea_bb59_34e12def8872row3_col1\" class=\"data row3 col1\" >$3.05</td>\n",
       "                        <td id=\"T_e4846da2_1ef6_11ea_bb59_34e12def8872row3_col2\" class=\"data row3 col2\" >$1,114.06</td>\n",
       "                        <td id=\"T_e4846da2_1ef6_11ea_bb59_34e12def8872row3_col3\" class=\"data row3 col3\" >$4.32</td>\n",
       "            </tr>\n",
       "            <tr>\n",
       "                        <th id=\"T_e4846da2_1ef6_11ea_bb59_34e12def8872level0_row4\" class=\"row_heading level0 row4\" >25-29</th>\n",
       "                        <td id=\"T_e4846da2_1ef6_11ea_bb59_34e12def8872row4_col0\" class=\"data row4 col0\" >101</td>\n",
       "                        <td id=\"T_e4846da2_1ef6_11ea_bb59_34e12def8872row4_col1\" class=\"data row4 col1\" >$2.90</td>\n",
       "                        <td id=\"T_e4846da2_1ef6_11ea_bb59_34e12def8872row4_col2\" class=\"data row4 col2\" >$293.00</td>\n",
       "                        <td id=\"T_e4846da2_1ef6_11ea_bb59_34e12def8872row4_col3\" class=\"data row4 col3\" >$3.81</td>\n",
       "            </tr>\n",
       "            <tr>\n",
       "                        <th id=\"T_e4846da2_1ef6_11ea_bb59_34e12def8872level0_row5\" class=\"row_heading level0 row5\" >30-34</th>\n",
       "                        <td id=\"T_e4846da2_1ef6_11ea_bb59_34e12def8872row5_col0\" class=\"data row5 col0\" >73</td>\n",
       "                        <td id=\"T_e4846da2_1ef6_11ea_bb59_34e12def8872row5_col1\" class=\"data row5 col1\" >$2.93</td>\n",
       "                        <td id=\"T_e4846da2_1ef6_11ea_bb59_34e12def8872row5_col2\" class=\"data row5 col2\" >$214.00</td>\n",
       "                        <td id=\"T_e4846da2_1ef6_11ea_bb59_34e12def8872row5_col3\" class=\"data row5 col3\" >$4.12</td>\n",
       "            </tr>\n",
       "            <tr>\n",
       "                        <th id=\"T_e4846da2_1ef6_11ea_bb59_34e12def8872level0_row6\" class=\"row_heading level0 row6\" >35-39</th>\n",
       "                        <td id=\"T_e4846da2_1ef6_11ea_bb59_34e12def8872row6_col0\" class=\"data row6 col0\" >41</td>\n",
       "                        <td id=\"T_e4846da2_1ef6_11ea_bb59_34e12def8872row6_col1\" class=\"data row6 col1\" >$3.60</td>\n",
       "                        <td id=\"T_e4846da2_1ef6_11ea_bb59_34e12def8872row6_col2\" class=\"data row6 col2\" >$147.67</td>\n",
       "                        <td id=\"T_e4846da2_1ef6_11ea_bb59_34e12def8872row6_col3\" class=\"data row6 col3\" >$4.76</td>\n",
       "            </tr>\n",
       "            <tr>\n",
       "                        <th id=\"T_e4846da2_1ef6_11ea_bb59_34e12def8872level0_row7\" class=\"row_heading level0 row7\" >40+</th>\n",
       "                        <td id=\"T_e4846da2_1ef6_11ea_bb59_34e12def8872row7_col0\" class=\"data row7 col0\" >13</td>\n",
       "                        <td id=\"T_e4846da2_1ef6_11ea_bb59_34e12def8872row7_col1\" class=\"data row7 col1\" >$2.94</td>\n",
       "                        <td id=\"T_e4846da2_1ef6_11ea_bb59_34e12def8872row7_col2\" class=\"data row7 col2\" >$38.24</td>\n",
       "                        <td id=\"T_e4846da2_1ef6_11ea_bb59_34e12def8872row7_col3\" class=\"data row7 col3\" >$3.19</td>\n",
       "            </tr>\n",
       "    </tbody></table>"
      ],
      "text/plain": [
       "<pandas.io.formats.style.Styler at 0x1c0099cab88>"
      ]
     },
     "execution_count": 144,
     "metadata": {},
     "output_type": "execute_result"
    }
   ],
   "source": [
    "# Count purchases\n",
    "purchase_count_age = age_grouping[\"Purchase ID\"].count()\n",
    "\n",
    "# average purchase price by age group \n",
    "avg_purchase_price_age = age_grouping[\"Price\"].mean()\n",
    "\n",
    "# total purchase value by age group \n",
    "total_purchase_value = age_grouping[\"Price\"].sum()\n",
    "\n",
    "# average purchase per person by age group \n",
    "avg_purchase_per_person_age = total_purchase_value / total_count_age\n",
    "\n",
    "# Create data frame with obtained values\n",
    "age_demographics = pd.DataFrame({\"Purchase Count\": purchase_count_age,\n",
    "                                 \"Average Purchase Price\": avg_purchase_price_age,\n",
    "                                 \"Total Purchase Value\":total_purchase_value,\n",
    "                                 \"Average Purchase Total per Person\": avg_purchase_per_person_age})\n",
    "\n",
    "# Format with currency style\n",
    "age_demographics.style.format({\"Average Purchase Price\":\"${:,.2f}\",\n",
    "                               \"Total Purchase Value\":\"${:,.2f}\",\n",
    "                               \"Average Purchase Total per Person\":\"${:,.2f}\"})"
   ]
  },
  {
   "cell_type": "code",
   "execution_count": 145,
   "metadata": {},
   "outputs": [
    {
     "data": {
      "text/html": [
       "<style  type=\"text/css\" >\n",
       "</style><table id=\"T_e4e2e1ba_1ef6_11ea_ace5_34e12def8872\" ><thead>    <tr>        <th class=\"blank level0\" ></th>        <th class=\"col_heading level0 col0\" >Purchase Count</th>        <th class=\"col_heading level0 col1\" >Average Purchase Price</th>        <th class=\"col_heading level0 col2\" >Total Purchase Value</th>    </tr>    <tr>        <th class=\"index_name level0\" >SN</th>        <th class=\"blank\" ></th>        <th class=\"blank\" ></th>        <th class=\"blank\" ></th>    </tr></thead><tbody>\n",
       "                <tr>\n",
       "                        <th id=\"T_e4e2e1ba_1ef6_11ea_ace5_34e12def8872level0_row0\" class=\"row_heading level0 row0\" >Lisosia93</th>\n",
       "                        <td id=\"T_e4e2e1ba_1ef6_11ea_ace5_34e12def8872row0_col0\" class=\"data row0 col0\" >5</td>\n",
       "                        <td id=\"T_e4e2e1ba_1ef6_11ea_ace5_34e12def8872row0_col1\" class=\"data row0 col1\" >$3.79</td>\n",
       "                        <td id=\"T_e4e2e1ba_1ef6_11ea_ace5_34e12def8872row0_col2\" class=\"data row0 col2\" >$18.96</td>\n",
       "            </tr>\n",
       "            <tr>\n",
       "                        <th id=\"T_e4e2e1ba_1ef6_11ea_ace5_34e12def8872level0_row1\" class=\"row_heading level0 row1\" >Idastidru52</th>\n",
       "                        <td id=\"T_e4e2e1ba_1ef6_11ea_ace5_34e12def8872row1_col0\" class=\"data row1 col0\" >4</td>\n",
       "                        <td id=\"T_e4e2e1ba_1ef6_11ea_ace5_34e12def8872row1_col1\" class=\"data row1 col1\" >$3.86</td>\n",
       "                        <td id=\"T_e4e2e1ba_1ef6_11ea_ace5_34e12def8872row1_col2\" class=\"data row1 col2\" >$15.45</td>\n",
       "            </tr>\n",
       "            <tr>\n",
       "                        <th id=\"T_e4e2e1ba_1ef6_11ea_ace5_34e12def8872level0_row2\" class=\"row_heading level0 row2\" >Chamjask73</th>\n",
       "                        <td id=\"T_e4e2e1ba_1ef6_11ea_ace5_34e12def8872row2_col0\" class=\"data row2 col0\" >3</td>\n",
       "                        <td id=\"T_e4e2e1ba_1ef6_11ea_ace5_34e12def8872row2_col1\" class=\"data row2 col1\" >$4.61</td>\n",
       "                        <td id=\"T_e4e2e1ba_1ef6_11ea_ace5_34e12def8872row2_col2\" class=\"data row2 col2\" >$13.83</td>\n",
       "            </tr>\n",
       "            <tr>\n",
       "                        <th id=\"T_e4e2e1ba_1ef6_11ea_ace5_34e12def8872level0_row3\" class=\"row_heading level0 row3\" >Iral74</th>\n",
       "                        <td id=\"T_e4e2e1ba_1ef6_11ea_ace5_34e12def8872row3_col0\" class=\"data row3 col0\" >4</td>\n",
       "                        <td id=\"T_e4e2e1ba_1ef6_11ea_ace5_34e12def8872row3_col1\" class=\"data row3 col1\" >$3.40</td>\n",
       "                        <td id=\"T_e4e2e1ba_1ef6_11ea_ace5_34e12def8872row3_col2\" class=\"data row3 col2\" >$13.62</td>\n",
       "            </tr>\n",
       "            <tr>\n",
       "                        <th id=\"T_e4e2e1ba_1ef6_11ea_ace5_34e12def8872level0_row4\" class=\"row_heading level0 row4\" >Iskadarya95</th>\n",
       "                        <td id=\"T_e4e2e1ba_1ef6_11ea_ace5_34e12def8872row4_col0\" class=\"data row4 col0\" >3</td>\n",
       "                        <td id=\"T_e4e2e1ba_1ef6_11ea_ace5_34e12def8872row4_col1\" class=\"data row4 col1\" >$4.37</td>\n",
       "                        <td id=\"T_e4e2e1ba_1ef6_11ea_ace5_34e12def8872row4_col2\" class=\"data row4 col2\" >$13.10</td>\n",
       "            </tr>\n",
       "    </tbody></table>"
      ],
      "text/plain": [
       "<pandas.io.formats.style.Styler at 0x1c009831348>"
      ]
     },
     "execution_count": 145,
     "metadata": {},
     "output_type": "execute_result"
    }
   ],
   "source": [
    "# SN data\n",
    "spend_data = df.groupby(\"SN\")\n",
    "\n",
    "# total purchases \n",
    "purchase_count_spender = spend_data[\"Purchase ID\"].count()\n",
    "\n",
    "# average purchase \n",
    "avg_purchase_price_spender = spend_data[\"Price\"].mean()\n",
    "\n",
    "# purchase total \n",
    "purchase_total_spender = spend_data [\"Price\"].sum()\n",
    "\n",
    "# data frame\n",
    "top_spenders = pd.DataFrame({\"Purchase Count\": purchase_count_spender,\n",
    "                             \"Average Purchase Price\": avg_purchase_price_spender,\n",
    "                             \"Total Purchase Value\":purchase_total_spender})\n",
    "\n",
    "# sort\n",
    "spenders = top_spenders.sort_values([\"Total Purchase Value\"], ascending=False).head()\n",
    "\n",
    "# style format\n",
    "spenders.style.format({\"Average Purchase Total\":\"${:,.2f}\",\n",
    "                                 \"Average Purchase Price\":\"${:,.2f}\", \n",
    "                                 \"Total Purchase Value\":\"${:,.2f}\"})"
   ]
  },
  {
   "cell_type": "code",
   "execution_count": 146,
   "metadata": {},
   "outputs": [
    {
     "data": {
      "text/html": [
       "<style  type=\"text/css\" >\n",
       "</style><table id=\"T_e5372e9a_1ef6_11ea_b7d2_34e12def8872\" ><thead>    <tr>        <th class=\"blank\" ></th>        <th class=\"blank level0\" ></th>        <th class=\"col_heading level0 col0\" >Purchase Count</th>        <th class=\"col_heading level0 col1\" >Item Price</th>        <th class=\"col_heading level0 col2\" >Total Purchase Value</th>    </tr>    <tr>        <th class=\"index_name level0\" >Item ID</th>        <th class=\"index_name level1\" >Item Name</th>        <th class=\"blank\" ></th>        <th class=\"blank\" ></th>        <th class=\"blank\" ></th>    </tr></thead><tbody>\n",
       "                <tr>\n",
       "                        <th id=\"T_e5372e9a_1ef6_11ea_b7d2_34e12def8872level0_row0\" class=\"row_heading level0 row0\" >178</th>\n",
       "                        <th id=\"T_e5372e9a_1ef6_11ea_b7d2_34e12def8872level1_row0\" class=\"row_heading level1 row0\" >Oathbreaker, Last Hope of the Breaking Storm</th>\n",
       "                        <td id=\"T_e5372e9a_1ef6_11ea_b7d2_34e12def8872row0_col0\" class=\"data row0 col0\" >12</td>\n",
       "                        <td id=\"T_e5372e9a_1ef6_11ea_b7d2_34e12def8872row0_col1\" class=\"data row0 col1\" >$4.23</td>\n",
       "                        <td id=\"T_e5372e9a_1ef6_11ea_b7d2_34e12def8872row0_col2\" class=\"data row0 col2\" >$50.76</td>\n",
       "            </tr>\n",
       "            <tr>\n",
       "                        <th id=\"T_e5372e9a_1ef6_11ea_b7d2_34e12def8872level0_row1\" class=\"row_heading level0 row1\" >145</th>\n",
       "                        <th id=\"T_e5372e9a_1ef6_11ea_b7d2_34e12def8872level1_row1\" class=\"row_heading level1 row1\" >Fiery Glass Crusader</th>\n",
       "                        <td id=\"T_e5372e9a_1ef6_11ea_b7d2_34e12def8872row1_col0\" class=\"data row1 col0\" >9</td>\n",
       "                        <td id=\"T_e5372e9a_1ef6_11ea_b7d2_34e12def8872row1_col1\" class=\"data row1 col1\" >$4.58</td>\n",
       "                        <td id=\"T_e5372e9a_1ef6_11ea_b7d2_34e12def8872row1_col2\" class=\"data row1 col2\" >$41.22</td>\n",
       "            </tr>\n",
       "            <tr>\n",
       "                        <th id=\"T_e5372e9a_1ef6_11ea_b7d2_34e12def8872level0_row2\" class=\"row_heading level0 row2\" >108</th>\n",
       "                        <th id=\"T_e5372e9a_1ef6_11ea_b7d2_34e12def8872level1_row2\" class=\"row_heading level1 row2\" >Extraction, Quickblade Of Trembling Hands</th>\n",
       "                        <td id=\"T_e5372e9a_1ef6_11ea_b7d2_34e12def8872row2_col0\" class=\"data row2 col0\" >9</td>\n",
       "                        <td id=\"T_e5372e9a_1ef6_11ea_b7d2_34e12def8872row2_col1\" class=\"data row2 col1\" >$3.53</td>\n",
       "                        <td id=\"T_e5372e9a_1ef6_11ea_b7d2_34e12def8872row2_col2\" class=\"data row2 col2\" >$31.77</td>\n",
       "            </tr>\n",
       "            <tr>\n",
       "                        <th id=\"T_e5372e9a_1ef6_11ea_b7d2_34e12def8872level0_row3\" class=\"row_heading level0 row3\" >82</th>\n",
       "                        <th id=\"T_e5372e9a_1ef6_11ea_b7d2_34e12def8872level1_row3\" class=\"row_heading level1 row3\" >Nirvana</th>\n",
       "                        <td id=\"T_e5372e9a_1ef6_11ea_b7d2_34e12def8872row3_col0\" class=\"data row3 col0\" >9</td>\n",
       "                        <td id=\"T_e5372e9a_1ef6_11ea_b7d2_34e12def8872row3_col1\" class=\"data row3 col1\" >$4.90</td>\n",
       "                        <td id=\"T_e5372e9a_1ef6_11ea_b7d2_34e12def8872row3_col2\" class=\"data row3 col2\" >$44.10</td>\n",
       "            </tr>\n",
       "            <tr>\n",
       "                        <th id=\"T_e5372e9a_1ef6_11ea_b7d2_34e12def8872level0_row4\" class=\"row_heading level0 row4\" >19</th>\n",
       "                        <th id=\"T_e5372e9a_1ef6_11ea_b7d2_34e12def8872level1_row4\" class=\"row_heading level1 row4\" >Pursuit, Cudgel of Necromancy</th>\n",
       "                        <td id=\"T_e5372e9a_1ef6_11ea_b7d2_34e12def8872row4_col0\" class=\"data row4 col0\" >8</td>\n",
       "                        <td id=\"T_e5372e9a_1ef6_11ea_b7d2_34e12def8872row4_col1\" class=\"data row4 col1\" >$1.02</td>\n",
       "                        <td id=\"T_e5372e9a_1ef6_11ea_b7d2_34e12def8872row4_col2\" class=\"data row4 col2\" >$8.16</td>\n",
       "            </tr>\n",
       "    </tbody></table>"
      ],
      "text/plain": [
       "<pandas.io.formats.style.Styler at 0x1c0099cac48>"
      ]
     },
     "execution_count": 146,
     "metadata": {},
     "output_type": "execute_result"
    }
   ],
   "source": [
    "#items detail \n",
    "items = df[[\"Item ID\", \"Item Name\", \"Price\"]]\n",
    "\n",
    "#grouping\n",
    "item_stats = items.groupby([\"Item ID\",\"Item Name\"])\n",
    "\n",
    "#Counting \n",
    "purchase_count_item = item_stats[\"Price\"].count()\n",
    "\n",
    "#purchase value \n",
    "purchase_value = (item_stats[\"Price\"].sum()) \n",
    "\n",
    "#item price by person\n",
    "item_price = purchase_value/purchase_count_item\n",
    "\n",
    "#dataframe\n",
    "most_popular_items = pd.DataFrame({\"Purchase Count\": purchase_count_item, \n",
    "                                   \"Item Price\": item_price,\n",
    "                                   \"Total Purchase Value\":purchase_value})\n",
    "\n",
    "# sort\n",
    "popular_items = most_popular_items.sort_values([\"Purchase Count\"], ascending=False).head()\n",
    "\n",
    "# style format\n",
    "popular_items.style.format({\"Item Price\":\"${:,.2f}\",\n",
    "                                \"Total Purchase Value\":\"${:,.2f}\"})"
   ]
  },
  {
   "cell_type": "code",
   "execution_count": 147,
   "metadata": {},
   "outputs": [
    {
     "data": {
      "text/html": [
       "<style  type=\"text/css\" >\n",
       "</style><table id=\"T_e58ce0be_1ef6_11ea_99c1_34e12def8872\" ><thead>    <tr>        <th class=\"blank\" ></th>        <th class=\"blank level0\" ></th>        <th class=\"col_heading level0 col0\" >Purchase Count</th>        <th class=\"col_heading level0 col1\" >Item Price</th>        <th class=\"col_heading level0 col2\" >Total Purchase Value</th>    </tr>    <tr>        <th class=\"index_name level0\" >Item ID</th>        <th class=\"index_name level1\" >Item Name</th>        <th class=\"blank\" ></th>        <th class=\"blank\" ></th>        <th class=\"blank\" ></th>    </tr></thead><tbody>\n",
       "                <tr>\n",
       "                        <th id=\"T_e58ce0be_1ef6_11ea_99c1_34e12def8872level0_row0\" class=\"row_heading level0 row0\" >178</th>\n",
       "                        <th id=\"T_e58ce0be_1ef6_11ea_99c1_34e12def8872level1_row0\" class=\"row_heading level1 row0\" >Oathbreaker, Last Hope of the Breaking Storm</th>\n",
       "                        <td id=\"T_e58ce0be_1ef6_11ea_99c1_34e12def8872row0_col0\" class=\"data row0 col0\" >12</td>\n",
       "                        <td id=\"T_e58ce0be_1ef6_11ea_99c1_34e12def8872row0_col1\" class=\"data row0 col1\" >$4.23</td>\n",
       "                        <td id=\"T_e58ce0be_1ef6_11ea_99c1_34e12def8872row0_col2\" class=\"data row0 col2\" >$50.76</td>\n",
       "            </tr>\n",
       "            <tr>\n",
       "                        <th id=\"T_e58ce0be_1ef6_11ea_99c1_34e12def8872level0_row1\" class=\"row_heading level0 row1\" >82</th>\n",
       "                        <th id=\"T_e58ce0be_1ef6_11ea_99c1_34e12def8872level1_row1\" class=\"row_heading level1 row1\" >Nirvana</th>\n",
       "                        <td id=\"T_e58ce0be_1ef6_11ea_99c1_34e12def8872row1_col0\" class=\"data row1 col0\" >9</td>\n",
       "                        <td id=\"T_e58ce0be_1ef6_11ea_99c1_34e12def8872row1_col1\" class=\"data row1 col1\" >$4.90</td>\n",
       "                        <td id=\"T_e58ce0be_1ef6_11ea_99c1_34e12def8872row1_col2\" class=\"data row1 col2\" >$44.10</td>\n",
       "            </tr>\n",
       "            <tr>\n",
       "                        <th id=\"T_e58ce0be_1ef6_11ea_99c1_34e12def8872level0_row2\" class=\"row_heading level0 row2\" >145</th>\n",
       "                        <th id=\"T_e58ce0be_1ef6_11ea_99c1_34e12def8872level1_row2\" class=\"row_heading level1 row2\" >Fiery Glass Crusader</th>\n",
       "                        <td id=\"T_e58ce0be_1ef6_11ea_99c1_34e12def8872row2_col0\" class=\"data row2 col0\" >9</td>\n",
       "                        <td id=\"T_e58ce0be_1ef6_11ea_99c1_34e12def8872row2_col1\" class=\"data row2 col1\" >$4.58</td>\n",
       "                        <td id=\"T_e58ce0be_1ef6_11ea_99c1_34e12def8872row2_col2\" class=\"data row2 col2\" >$41.22</td>\n",
       "            </tr>\n",
       "            <tr>\n",
       "                        <th id=\"T_e58ce0be_1ef6_11ea_99c1_34e12def8872level0_row3\" class=\"row_heading level0 row3\" >92</th>\n",
       "                        <th id=\"T_e58ce0be_1ef6_11ea_99c1_34e12def8872level1_row3\" class=\"row_heading level1 row3\" >Final Critic</th>\n",
       "                        <td id=\"T_e58ce0be_1ef6_11ea_99c1_34e12def8872row3_col0\" class=\"data row3 col0\" >8</td>\n",
       "                        <td id=\"T_e58ce0be_1ef6_11ea_99c1_34e12def8872row3_col1\" class=\"data row3 col1\" >$4.88</td>\n",
       "                        <td id=\"T_e58ce0be_1ef6_11ea_99c1_34e12def8872row3_col2\" class=\"data row3 col2\" >$39.04</td>\n",
       "            </tr>\n",
       "            <tr>\n",
       "                        <th id=\"T_e58ce0be_1ef6_11ea_99c1_34e12def8872level0_row4\" class=\"row_heading level0 row4\" >103</th>\n",
       "                        <th id=\"T_e58ce0be_1ef6_11ea_99c1_34e12def8872level1_row4\" class=\"row_heading level1 row4\" >Singed Scalpel</th>\n",
       "                        <td id=\"T_e58ce0be_1ef6_11ea_99c1_34e12def8872row4_col0\" class=\"data row4 col0\" >8</td>\n",
       "                        <td id=\"T_e58ce0be_1ef6_11ea_99c1_34e12def8872row4_col1\" class=\"data row4 col1\" >$4.35</td>\n",
       "                        <td id=\"T_e58ce0be_1ef6_11ea_99c1_34e12def8872row4_col2\" class=\"data row4 col2\" >$34.80</td>\n",
       "            </tr>\n",
       "    </tbody></table>"
      ],
      "text/plain": [
       "<pandas.io.formats.style.Styler at 0x1c009a22b48>"
      ]
     },
     "execution_count": 147,
     "metadata": {},
     "output_type": "execute_result"
    }
   ],
   "source": [
    "# highest total purchase\n",
    "popular_formatted = most_popular_items.sort_values([\"Total Purchase Value\"],\n",
    "                                                   ascending=False).head()\n",
    "# style format\n",
    "popular_formatted.style.format({\"Item Price\":\"${:,.2f}\",\n",
    "                                \"Total Purchase Value\":\"${:,.2f}\"})"
   ]
  }
 ],
 "metadata": {
  "kernelspec": {
   "display_name": "Python 3",
   "language": "python",
   "name": "python3"
  },
  "language_info": {
   "codemirror_mode": {
    "name": "ipython",
    "version": 3
   },
   "file_extension": ".py",
   "mimetype": "text/x-python",
   "name": "python",
   "nbconvert_exporter": "python",
   "pygments_lexer": "ipython3",
   "version": "3.7.4"
  }
 },
 "nbformat": 4,
 "nbformat_minor": 2
}
